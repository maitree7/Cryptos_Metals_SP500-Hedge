{
 "cells": [
  {
   "cell_type": "code",
   "execution_count": 1,
   "metadata": {},
   "outputs": [],
   "source": [
    "from alpha_vantage.timeseries import TimeSeries\n",
    "from alpha_vantage.techindicators import TechIndicators\n",
    "from matplotlib.pyplot import figure\n",
    "import matplotlib.pyplot as plt\n",
    "\n",
    "import os\n",
    "import requests\n",
    "import numpy as np\n",
    "import pandas as pd\n",
    "import matplotlib.pyplot as plt\n",
    "\n",
    "%matplotlib inline"
   ]
  },
  {
   "cell_type": "code",
   "execution_count": 2,
   "metadata": {},
   "outputs": [],
   "source": [
    "# Your key here\n",
    "AV_API_KEY = os.environ.get(\"AV_API_KEY\")\n",
    "\n",
    "# Chose your output format, or default to JSON (python dict)\n",
    "#ts = TimeSeries(key, output_format='pandas')\n",
    "#ti = TechIndicators(key)"
   ]
  },
  {
   "cell_type": "code",
   "execution_count": 3,
   "metadata": {},
   "outputs": [
    {
     "data": {
      "text/html": [
       "<div>\n",
       "<style scoped>\n",
       "    .dataframe tbody tr th:only-of-type {\n",
       "        vertical-align: middle;\n",
       "    }\n",
       "\n",
       "    .dataframe tbody tr th {\n",
       "        vertical-align: top;\n",
       "    }\n",
       "\n",
       "    .dataframe thead th {\n",
       "        text-align: right;\n",
       "    }\n",
       "</style>\n",
       "<table border=\"1\" class=\"dataframe\">\n",
       "  <thead>\n",
       "    <tr style=\"text-align: right;\">\n",
       "      <th></th>\n",
       "      <th>currency code</th>\n",
       "      <th>currency name</th>\n",
       "    </tr>\n",
       "  </thead>\n",
       "  <tbody>\n",
       "    <tr>\n",
       "      <th>41</th>\n",
       "      <td>BCD</td>\n",
       "      <td>Bitcoin-Diamond</td>\n",
       "    </tr>\n",
       "    <tr>\n",
       "      <th>42</th>\n",
       "      <td>BCH</td>\n",
       "      <td>Bitcoin-Cash</td>\n",
       "    </tr>\n",
       "    <tr>\n",
       "      <th>45</th>\n",
       "      <td>BCX</td>\n",
       "      <td>BitcoinX</td>\n",
       "    </tr>\n",
       "    <tr>\n",
       "      <th>77</th>\n",
       "      <td>BTC</td>\n",
       "      <td>Bitcoin</td>\n",
       "    </tr>\n",
       "    <tr>\n",
       "      <th>78</th>\n",
       "      <td>BTCD</td>\n",
       "      <td>BitcoinDark</td>\n",
       "    </tr>\n",
       "    <tr>\n",
       "      <th>79</th>\n",
       "      <td>BTCP</td>\n",
       "      <td>Bitcoin-Private</td>\n",
       "    </tr>\n",
       "    <tr>\n",
       "      <th>80</th>\n",
       "      <td>BTG</td>\n",
       "      <td>Bitcoin-Gold</td>\n",
       "    </tr>\n",
       "    <tr>\n",
       "      <th>394</th>\n",
       "      <td>SBTC</td>\n",
       "      <td>Super-Bitcoin</td>\n",
       "    </tr>\n",
       "    <tr>\n",
       "      <th>500</th>\n",
       "      <td>XBC</td>\n",
       "      <td>Bitcoin-Plus</td>\n",
       "    </tr>\n",
       "  </tbody>\n",
       "</table>\n",
       "</div>"
      ],
      "text/plain": [
       "    currency code    currency name\n",
       "41            BCD  Bitcoin-Diamond\n",
       "42            BCH     Bitcoin-Cash\n",
       "45            BCX         BitcoinX\n",
       "77            BTC          Bitcoin\n",
       "78           BTCD      BitcoinDark\n",
       "79           BTCP  Bitcoin-Private\n",
       "80            BTG     Bitcoin-Gold\n",
       "394          SBTC    Super-Bitcoin\n",
       "500           XBC     Bitcoin-Plus"
      ]
     },
     "execution_count": 3,
     "metadata": {},
     "output_type": "execute_result"
    }
   ],
   "source": [
    "cryptos = pd.read_csv('Resources/digital_currency_list.csv')\n",
    "cryptos[cryptos['currency name'].str.contains('Bitcoin')]"
   ]
  },
  {
   "cell_type": "code",
   "execution_count": 4,
   "metadata": {},
   "outputs": [
    {
     "data": {
      "text/html": [
       "<div>\n",
       "<style scoped>\n",
       "    .dataframe tbody tr th:only-of-type {\n",
       "        vertical-align: middle;\n",
       "    }\n",
       "\n",
       "    .dataframe tbody tr th {\n",
       "        vertical-align: top;\n",
       "    }\n",
       "\n",
       "    .dataframe thead th {\n",
       "        text-align: right;\n",
       "    }\n",
       "</style>\n",
       "<table border=\"1\" class=\"dataframe\">\n",
       "  <thead>\n",
       "    <tr style=\"text-align: right;\">\n",
       "      <th></th>\n",
       "      <th>currency code</th>\n",
       "      <th>currency name</th>\n",
       "    </tr>\n",
       "  </thead>\n",
       "  <tbody>\n",
       "    <tr>\n",
       "      <th>166</th>\n",
       "      <td>ETC</td>\n",
       "      <td>Ethereum-Classic</td>\n",
       "    </tr>\n",
       "    <tr>\n",
       "      <th>167</th>\n",
       "      <td>ETH</td>\n",
       "      <td>Ethereum</td>\n",
       "    </tr>\n",
       "    <tr>\n",
       "      <th>168</th>\n",
       "      <td>ETHD</td>\n",
       "      <td>Ethereum-Dark</td>\n",
       "    </tr>\n",
       "  </tbody>\n",
       "</table>\n",
       "</div>"
      ],
      "text/plain": [
       "    currency code     currency name\n",
       "166           ETC  Ethereum-Classic\n",
       "167           ETH          Ethereum\n",
       "168          ETHD     Ethereum-Dark"
      ]
     },
     "execution_count": 4,
     "metadata": {},
     "output_type": "execute_result"
    }
   ],
   "source": [
    "cryptos[cryptos['currency name'].str.contains('Ethereum')]"
   ]
  },
  {
   "cell_type": "code",
   "execution_count": 5,
   "metadata": {},
   "outputs": [
    {
     "data": {
      "text/html": [
       "<div>\n",
       "<style scoped>\n",
       "    .dataframe tbody tr th:only-of-type {\n",
       "        vertical-align: middle;\n",
       "    }\n",
       "\n",
       "    .dataframe tbody tr th {\n",
       "        vertical-align: top;\n",
       "    }\n",
       "\n",
       "    .dataframe thead th {\n",
       "        text-align: right;\n",
       "    }\n",
       "</style>\n",
       "<table border=\"1\" class=\"dataframe\">\n",
       "  <thead>\n",
       "    <tr style=\"text-align: right;\">\n",
       "      <th></th>\n",
       "      <th>currency code</th>\n",
       "      <th>currency name</th>\n",
       "    </tr>\n",
       "  </thead>\n",
       "  <tbody>\n",
       "    <tr>\n",
       "      <th>139</th>\n",
       "      <td>USD</td>\n",
       "      <td>United States Dollar</td>\n",
       "    </tr>\n",
       "  </tbody>\n",
       "</table>\n",
       "</div>"
      ],
      "text/plain": [
       "    currency code         currency name\n",
       "139           USD  United States Dollar"
      ]
     },
     "execution_count": 5,
     "metadata": {},
     "output_type": "execute_result"
    }
   ],
   "source": [
    "curr = pd.read_csv('Resources/physical_currency_list.csv')\n",
    "curr[curr['currency code'] == 'USD']"
   ]
  },
  {
   "cell_type": "code",
   "execution_count": 6,
   "metadata": {},
   "outputs": [
    {
     "data": {
      "text/plain": [
       "{'1a. open (USD)': '8778.58000000',\n",
       " '1b. open (USD)': '8778.58000000',\n",
       " '2a. high (USD)': '9460.00000000',\n",
       " '2b. high (USD)': '9460.00000000',\n",
       " '3a. low (USD)': '8401.00000000',\n",
       " '3b. low (USD)': '8401.00000000',\n",
       " '4a. close (USD)': '8620.00000000',\n",
       " '4b. close (USD)': '8620.00000000',\n",
       " '5. volume': '206277.21412400',\n",
       " '6. market cap (USD)': '206277.21412400'}"
      ]
     },
     "execution_count": 6,
     "metadata": {},
     "output_type": "execute_result"
    }
   ],
   "source": [
    "#resp.output_format ='pandas'\n",
    "resp = requests.get('https://www.alphavantage.co/query', params={\n",
    "    'function': 'DIGITAL_CURRENCY_DAILY',\n",
    "    'symbol': 'BTC',\n",
    "    'market': 'USD',\n",
    "    'apikey': AV_API_KEY\n",
    "})\n",
    "doc_btc=resp.json()\n",
    "doc_btc['Meta Data']\n",
    "doc_btc['Time Series (Digital Currency Daily)']['2020-04-30']"
   ]
  },
  {
   "cell_type": "code",
   "execution_count": 7,
   "metadata": {},
   "outputs": [
    {
     "data": {
      "text/plain": [
       "{'1a. open (USD)': '215.40000000',\n",
       " '1b. open (USD)': '215.40000000',\n",
       " '2a. high (USD)': '227.30000000',\n",
       " '2b. high (USD)': '227.30000000',\n",
       " '3a. low (USD)': '202.00000000',\n",
       " '3b. low (USD)': '202.00000000',\n",
       " '4a. close (USD)': '206.08000000',\n",
       " '4b. close (USD)': '206.08000000',\n",
       " '5. volume': '1749691.00151000',\n",
       " '6. market cap (USD)': '1749691.00151000'}"
      ]
     },
     "execution_count": 7,
     "metadata": {},
     "output_type": "execute_result"
    }
   ],
   "source": [
    "resp_eth = requests.get('https://www.alphavantage.co/query', params={\n",
    "    'function': 'DIGITAL_CURRENCY_DAILY',\n",
    "    'symbol': 'ETH',\n",
    "    'market': 'USD',\n",
    "    'apikey': AV_API_KEY\n",
    "})\n",
    "\n",
    "doc_eth=resp_eth.json()\n",
    "#doc_eth['Meta Data']\n",
    "doc_eth['Time Series (Digital Currency Daily)']['2020-04-30']\n"
   ]
  },
  {
   "cell_type": "code",
   "execution_count": 8,
   "metadata": {},
   "outputs": [
    {
     "data": {
      "text/html": [
       "<div>\n",
       "<style scoped>\n",
       "    .dataframe tbody tr th:only-of-type {\n",
       "        vertical-align: middle;\n",
       "    }\n",
       "\n",
       "    .dataframe tbody tr th {\n",
       "        vertical-align: top;\n",
       "    }\n",
       "\n",
       "    .dataframe thead th {\n",
       "        text-align: right;\n",
       "    }\n",
       "</style>\n",
       "<table border=\"1\" class=\"dataframe\">\n",
       "  <thead>\n",
       "    <tr style=\"text-align: right;\">\n",
       "      <th></th>\n",
       "      <th>1a. open (USD)</th>\n",
       "      <th>1b. open (USD)</th>\n",
       "      <th>2a. high (USD)</th>\n",
       "      <th>2b. high (USD)</th>\n",
       "      <th>3a. low (USD)</th>\n",
       "      <th>3b. low (USD)</th>\n",
       "      <th>4a. close (USD)</th>\n",
       "      <th>4b. close (USD)</th>\n",
       "      <th>5. volume</th>\n",
       "      <th>6. market cap (USD)</th>\n",
       "    </tr>\n",
       "  </thead>\n",
       "  <tbody>\n",
       "    <tr>\n",
       "      <th>2020-04-28</th>\n",
       "      <td>196.33</td>\n",
       "      <td>196.33</td>\n",
       "      <td>198.50</td>\n",
       "      <td>198.50</td>\n",
       "      <td>192.36</td>\n",
       "      <td>192.36</td>\n",
       "      <td>196.24</td>\n",
       "      <td>196.24</td>\n",
       "      <td>6.368299e+05</td>\n",
       "      <td>6.368299e+05</td>\n",
       "    </tr>\n",
       "    <tr>\n",
       "      <th>2020-04-29</th>\n",
       "      <td>196.24</td>\n",
       "      <td>196.24</td>\n",
       "      <td>218.77</td>\n",
       "      <td>218.77</td>\n",
       "      <td>196.22</td>\n",
       "      <td>196.22</td>\n",
       "      <td>215.36</td>\n",
       "      <td>215.36</td>\n",
       "      <td>1.620423e+06</td>\n",
       "      <td>1.620423e+06</td>\n",
       "    </tr>\n",
       "    <tr>\n",
       "      <th>2020-04-30</th>\n",
       "      <td>215.40</td>\n",
       "      <td>215.40</td>\n",
       "      <td>227.30</td>\n",
       "      <td>227.30</td>\n",
       "      <td>202.00</td>\n",
       "      <td>202.00</td>\n",
       "      <td>206.08</td>\n",
       "      <td>206.08</td>\n",
       "      <td>1.749691e+06</td>\n",
       "      <td>1.749691e+06</td>\n",
       "    </tr>\n",
       "    <tr>\n",
       "      <th>2020-05-01</th>\n",
       "      <td>206.07</td>\n",
       "      <td>206.07</td>\n",
       "      <td>217.14</td>\n",
       "      <td>217.14</td>\n",
       "      <td>205.91</td>\n",
       "      <td>205.91</td>\n",
       "      <td>212.02</td>\n",
       "      <td>212.02</td>\n",
       "      <td>7.949140e+05</td>\n",
       "      <td>7.949140e+05</td>\n",
       "    </tr>\n",
       "    <tr>\n",
       "      <th>2020-05-02</th>\n",
       "      <td>212.01</td>\n",
       "      <td>212.01</td>\n",
       "      <td>213.20</td>\n",
       "      <td>213.20</td>\n",
       "      <td>211.02</td>\n",
       "      <td>211.02</td>\n",
       "      <td>213.05</td>\n",
       "      <td>213.05</td>\n",
       "      <td>1.637832e+04</td>\n",
       "      <td>1.637832e+04</td>\n",
       "    </tr>\n",
       "  </tbody>\n",
       "</table>\n",
       "</div>"
      ],
      "text/plain": [
       "            1a. open (USD)  1b. open (USD)  2a. high (USD)  2b. high (USD)  \\\n",
       "2020-04-28          196.33          196.33          198.50          198.50   \n",
       "2020-04-29          196.24          196.24          218.77          218.77   \n",
       "2020-04-30          215.40          215.40          227.30          227.30   \n",
       "2020-05-01          206.07          206.07          217.14          217.14   \n",
       "2020-05-02          212.01          212.01          213.20          213.20   \n",
       "\n",
       "            3a. low (USD)  3b. low (USD)  4a. close (USD)  4b. close (USD)  \\\n",
       "2020-04-28         192.36         192.36           196.24           196.24   \n",
       "2020-04-29         196.22         196.22           215.36           215.36   \n",
       "2020-04-30         202.00         202.00           206.08           206.08   \n",
       "2020-05-01         205.91         205.91           212.02           212.02   \n",
       "2020-05-02         211.02         211.02           213.05           213.05   \n",
       "\n",
       "               5. volume  6. market cap (USD)  \n",
       "2020-04-28  6.368299e+05         6.368299e+05  \n",
       "2020-04-29  1.620423e+06         1.620423e+06  \n",
       "2020-04-30  1.749691e+06         1.749691e+06  \n",
       "2020-05-01  7.949140e+05         7.949140e+05  \n",
       "2020-05-02  1.637832e+04         1.637832e+04  "
      ]
     },
     "execution_count": 8,
     "metadata": {},
     "output_type": "execute_result"
    }
   ],
   "source": [
    "df_btc = pd.DataFrame.from_dict(doc_btc['Time Series (Digital Currency Daily)'], orient='index', dtype=np.float)\n",
    "df_eth = pd.DataFrame.from_dict(doc_eth['Time Series (Digital Currency Daily)'], orient='index', dtype=np.float)\n",
    "df_eth.tail()"
   ]
  },
  {
   "cell_type": "code",
   "execution_count": 9,
   "metadata": {},
   "outputs": [
    {
     "data": {
      "text/plain": [
       "['1b. open (USD)', '2b. high (USD)', '3b. low (USD)', '4b. close (USD)']"
      ]
     },
     "execution_count": 9,
     "metadata": {},
     "output_type": "execute_result"
    }
   ],
   "source": [
    "[c for c in df_btc.columns.values if 'b.' in c]"
   ]
  },
  {
   "cell_type": "code",
   "execution_count": 11,
   "metadata": {},
   "outputs": [
    {
     "data": {
      "text/html": [
       "<div>\n",
       "<style scoped>\n",
       "    .dataframe tbody tr th:only-of-type {\n",
       "        vertical-align: middle;\n",
       "    }\n",
       "\n",
       "    .dataframe tbody tr th {\n",
       "        vertical-align: top;\n",
       "    }\n",
       "\n",
       "    .dataframe thead th {\n",
       "        text-align: right;\n",
       "    }\n",
       "</style>\n",
       "<table border=\"1\" class=\"dataframe\">\n",
       "  <thead>\n",
       "    <tr style=\"text-align: right;\">\n",
       "      <th></th>\n",
       "      <th>1a. open (USD)</th>\n",
       "      <th>2a. high (USD)</th>\n",
       "      <th>3a. low (USD)</th>\n",
       "      <th>4a. close (USD)</th>\n",
       "      <th>5. volume</th>\n",
       "      <th>6. market cap (USD)</th>\n",
       "    </tr>\n",
       "  </thead>\n",
       "  <tbody>\n",
       "    <tr>\n",
       "      <th>2020-04-28</th>\n",
       "      <td>7773.51</td>\n",
       "      <td>7780.00</td>\n",
       "      <td>7659.12</td>\n",
       "      <td>7738.98</td>\n",
       "      <td>46302.752638</td>\n",
       "      <td>46302.752638</td>\n",
       "    </tr>\n",
       "    <tr>\n",
       "      <th>2020-04-29</th>\n",
       "      <td>7738.58</td>\n",
       "      <td>8952.89</td>\n",
       "      <td>7710.05</td>\n",
       "      <td>8778.57</td>\n",
       "      <td>183546.887514</td>\n",
       "      <td>183546.887514</td>\n",
       "    </tr>\n",
       "    <tr>\n",
       "      <th>2020-04-30</th>\n",
       "      <td>8778.58</td>\n",
       "      <td>9460.00</td>\n",
       "      <td>8401.00</td>\n",
       "      <td>8620.00</td>\n",
       "      <td>206277.214124</td>\n",
       "      <td>206277.214124</td>\n",
       "    </tr>\n",
       "    <tr>\n",
       "      <th>2020-05-01</th>\n",
       "      <td>8620.00</td>\n",
       "      <td>9059.18</td>\n",
       "      <td>8613.56</td>\n",
       "      <td>8826.96</td>\n",
       "      <td>91468.815059</td>\n",
       "      <td>91468.815059</td>\n",
       "    </tr>\n",
       "    <tr>\n",
       "      <th>2020-05-02</th>\n",
       "      <td>8825.67</td>\n",
       "      <td>8828.57</td>\n",
       "      <td>8762.00</td>\n",
       "      <td>8820.57</td>\n",
       "      <td>1450.243995</td>\n",
       "      <td>1450.243995</td>\n",
       "    </tr>\n",
       "  </tbody>\n",
       "</table>\n",
       "</div>"
      ],
      "text/plain": [
       "            1a. open (USD)  2a. high (USD)  3a. low (USD)  4a. close (USD)  \\\n",
       "2020-04-28         7773.51         7780.00        7659.12          7738.98   \n",
       "2020-04-29         7738.58         8952.89        7710.05          8778.57   \n",
       "2020-04-30         8778.58         9460.00        8401.00          8620.00   \n",
       "2020-05-01         8620.00         9059.18        8613.56          8826.96   \n",
       "2020-05-02         8825.67         8828.57        8762.00          8820.57   \n",
       "\n",
       "                5. volume  6. market cap (USD)  \n",
       "2020-04-28   46302.752638         46302.752638  \n",
       "2020-04-29  183546.887514        183546.887514  \n",
       "2020-04-30  206277.214124        206277.214124  \n",
       "2020-05-01   91468.815059         91468.815059  \n",
       "2020-05-02    1450.243995          1450.243995  "
      ]
     },
     "execution_count": 11,
     "metadata": {},
     "output_type": "execute_result"
    }
   ],
   "source": [
    "df_btc.drop(columns=[c for c in df_btc.columns.values if 'b.' in c], inplace=True)\n",
    "df_btc.tail()"
   ]
  },
  {
   "cell_type": "code",
   "execution_count": 12,
   "metadata": {},
   "outputs": [
    {
     "data": {
      "text/html": [
       "<div>\n",
       "<style scoped>\n",
       "    .dataframe tbody tr th:only-of-type {\n",
       "        vertical-align: middle;\n",
       "    }\n",
       "\n",
       "    .dataframe tbody tr th {\n",
       "        vertical-align: top;\n",
       "    }\n",
       "\n",
       "    .dataframe thead th {\n",
       "        text-align: right;\n",
       "    }\n",
       "</style>\n",
       "<table border=\"1\" class=\"dataframe\">\n",
       "  <thead>\n",
       "    <tr style=\"text-align: right;\">\n",
       "      <th></th>\n",
       "      <th>1a. open (USD)</th>\n",
       "      <th>2a. high (USD)</th>\n",
       "      <th>3a. low (USD)</th>\n",
       "      <th>4a. close (USD)</th>\n",
       "      <th>5. volume</th>\n",
       "      <th>6. market cap (USD)</th>\n",
       "    </tr>\n",
       "  </thead>\n",
       "  <tbody>\n",
       "    <tr>\n",
       "      <th>2020-04-28</th>\n",
       "      <td>196.33</td>\n",
       "      <td>198.50</td>\n",
       "      <td>192.36</td>\n",
       "      <td>196.24</td>\n",
       "      <td>6.368299e+05</td>\n",
       "      <td>6.368299e+05</td>\n",
       "    </tr>\n",
       "    <tr>\n",
       "      <th>2020-04-29</th>\n",
       "      <td>196.24</td>\n",
       "      <td>218.77</td>\n",
       "      <td>196.22</td>\n",
       "      <td>215.36</td>\n",
       "      <td>1.620423e+06</td>\n",
       "      <td>1.620423e+06</td>\n",
       "    </tr>\n",
       "    <tr>\n",
       "      <th>2020-04-30</th>\n",
       "      <td>215.40</td>\n",
       "      <td>227.30</td>\n",
       "      <td>202.00</td>\n",
       "      <td>206.08</td>\n",
       "      <td>1.749691e+06</td>\n",
       "      <td>1.749691e+06</td>\n",
       "    </tr>\n",
       "    <tr>\n",
       "      <th>2020-05-01</th>\n",
       "      <td>206.07</td>\n",
       "      <td>217.14</td>\n",
       "      <td>205.91</td>\n",
       "      <td>212.02</td>\n",
       "      <td>7.949140e+05</td>\n",
       "      <td>7.949140e+05</td>\n",
       "    </tr>\n",
       "    <tr>\n",
       "      <th>2020-05-02</th>\n",
       "      <td>212.01</td>\n",
       "      <td>213.20</td>\n",
       "      <td>211.02</td>\n",
       "      <td>213.05</td>\n",
       "      <td>1.637832e+04</td>\n",
       "      <td>1.637832e+04</td>\n",
       "    </tr>\n",
       "  </tbody>\n",
       "</table>\n",
       "</div>"
      ],
      "text/plain": [
       "            1a. open (USD)  2a. high (USD)  3a. low (USD)  4a. close (USD)  \\\n",
       "2020-04-28          196.33          198.50         192.36           196.24   \n",
       "2020-04-29          196.24          218.77         196.22           215.36   \n",
       "2020-04-30          215.40          227.30         202.00           206.08   \n",
       "2020-05-01          206.07          217.14         205.91           212.02   \n",
       "2020-05-02          212.01          213.20         211.02           213.05   \n",
       "\n",
       "               5. volume  6. market cap (USD)  \n",
       "2020-04-28  6.368299e+05         6.368299e+05  \n",
       "2020-04-29  1.620423e+06         1.620423e+06  \n",
       "2020-04-30  1.749691e+06         1.749691e+06  \n",
       "2020-05-01  7.949140e+05         7.949140e+05  \n",
       "2020-05-02  1.637832e+04         1.637832e+04  "
      ]
     },
     "execution_count": 12,
     "metadata": {},
     "output_type": "execute_result"
    }
   ],
   "source": [
    "[c for c in df_eth.columns.values if 'b.' in c]\n",
    "df_eth.drop(columns=[c for c in df_eth.columns.values if 'b.' in c], inplace=True)\n",
    "df_eth.tail()"
   ]
  },
  {
   "cell_type": "code",
   "execution_count": 13,
   "metadata": {},
   "outputs": [
    {
     "data": {
      "text/html": [
       "<div>\n",
       "<style scoped>\n",
       "    .dataframe tbody tr th:only-of-type {\n",
       "        vertical-align: middle;\n",
       "    }\n",
       "\n",
       "    .dataframe tbody tr th {\n",
       "        vertical-align: top;\n",
       "    }\n",
       "\n",
       "    .dataframe thead th {\n",
       "        text-align: right;\n",
       "    }\n",
       "</style>\n",
       "<table border=\"1\" class=\"dataframe\">\n",
       "  <thead>\n",
       "    <tr style=\"text-align: right;\">\n",
       "      <th></th>\n",
       "      <th>BTC</th>\n",
       "      <th>ETH</th>\n",
       "    </tr>\n",
       "  </thead>\n",
       "  <tbody>\n",
       "    <tr>\n",
       "      <th>2020-04-28</th>\n",
       "      <td>7738.98</td>\n",
       "      <td>196.24</td>\n",
       "    </tr>\n",
       "    <tr>\n",
       "      <th>2020-04-29</th>\n",
       "      <td>8778.57</td>\n",
       "      <td>215.36</td>\n",
       "    </tr>\n",
       "    <tr>\n",
       "      <th>2020-04-30</th>\n",
       "      <td>8620.00</td>\n",
       "      <td>206.08</td>\n",
       "    </tr>\n",
       "    <tr>\n",
       "      <th>2020-05-01</th>\n",
       "      <td>8826.96</td>\n",
       "      <td>212.02</td>\n",
       "    </tr>\n",
       "    <tr>\n",
       "      <th>2020-05-02</th>\n",
       "      <td>8820.57</td>\n",
       "      <td>213.05</td>\n",
       "    </tr>\n",
       "  </tbody>\n",
       "</table>\n",
       "</div>"
      ],
      "text/plain": [
       "                BTC     ETH\n",
       "2020-04-28  7738.98  196.24\n",
       "2020-04-29  8778.57  215.36\n",
       "2020-04-30  8620.00  206.08\n",
       "2020-05-01  8826.96  212.02\n",
       "2020-05-02  8820.57  213.05"
      ]
     },
     "execution_count": 13,
     "metadata": {},
     "output_type": "execute_result"
    }
   ],
   "source": [
    "combined_df = pd.concat([df_btc['4a. close (USD)'], df_eth['4a. close (USD)']], axis=1, join='inner')\n",
    "combined_df.columns = ['BTC', 'ETH']\n",
    "combined_df.tail()"
   ]
  },
  {
   "cell_type": "code",
   "execution_count": 14,
   "metadata": {},
   "outputs": [
    {
     "data": {
      "text/plain": [
       "<Figure size 2000x1000 with 0 Axes>"
      ]
     },
     "metadata": {},
     "output_type": "display_data"
    },
    {
     "data": {
      "image/png": "[encoded data removed]",
      "text/plain": [
       "<Figure size 432x288 with 1 Axes>"
      ]
     },
     "metadata": {
      "needs_background": "light"
     },
     "output_type": "display_data"
    }
   ],
   "source": [
    "# Visualization\n",
    "figure(num=None, figsize=(20, 10), dpi=100, facecolor='w', edgecolor='k')\n",
    "combined_df.plot(logy=True)\n",
    "plt.tight_layout()\n",
    "plt.grid()\n",
    "plt.show()"
   ]
  },
  {
   "cell_type": "code",
   "execution_count": null,
   "metadata": {},
   "outputs": [],
   "source": []
  },
  {
   "cell_type": "code",
   "execution_count": null,
   "metadata": {},
   "outputs": [],
   "source": []
  }
 ],
 "metadata": {
  "kernelspec": {
   "display_name": "Python 3",
   "language": "python",
   "name": "python3"
  },
  "language_info": {
   "codemirror_mode": {
    "name": "ipython",
    "version": 3
   },
   "file_extension": ".py",
   "mimetype": "text/x-python",
   "name": "python",
   "nbconvert_exporter": "python",
   "pygments_lexer": "ipython3",
   "version": "3.7.7"
  }
 },
 "nbformat": 4,
 "nbformat_minor": 4
}
